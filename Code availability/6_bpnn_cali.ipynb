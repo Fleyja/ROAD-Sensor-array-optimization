{
 "cells": [
  {
   "cell_type": "code",
   "execution_count": null,
   "metadata": {},
   "outputs": [],
   "source": [
    "import pandas as pd\n",
    "\n",
    "import torch.optim as optim\n",
    "import torch.nn as nn\n",
    "import torch.utils.data as data\n",
    "import torch\n",
    "\n",
    "import time\n",
    "import os\n",
    "\n",
    "import matplotlib.pyplot as plt\n",
    "import numpy as np\n",
    "import copy\n",
    "import wandb\n",
    "\n",
    "from src.models import MLP, train, evaluate, epoch_time, MyDataset"
   ]
  },
  {
   "cell_type": "code",
   "execution_count": null,
   "metadata": {},
   "outputs": [],
   "source": [
    "seed = 1\n",
    "torch.manual_seed(seed)"
   ]
  },
  {
   "cell_type": "code",
   "execution_count": null,
   "metadata": {},
   "outputs": [],
   "source": [
    "device = torch.device('cuda' if torch.cuda.is_available() else 'cpu')"
   ]
  },
  {
   "cell_type": "code",
   "execution_count": null,
   "metadata": {},
   "outputs": [],
   "source": [
    "input_size = 3\n",
    "select = \"manual+3\"\n",
    "###\n",
    "hidden_size_1 = 12\n",
    "hidden_size_2 = 5\n",
    "activation = \"tanh\"\n",
    "lr = 0.006392255358324788\n",
    "weight_decay = 0.00024303795827860364"
   ]
  },
  {
   "cell_type": "code",
   "execution_count": null,
   "metadata": {},
   "outputs": [],
   "source": [
    "recipes = list(range(input_size))\n",
    "dataset_train = MyDataset(pd.read_csv(f\"data/cali_tmp_2/{select}_train.csv\"), recipes)\n",
    "dataset_test = MyDataset(pd.read_csv(f\"data/cali_tmp_2/{select}_test.csv\"), recipes)\n",
    "test_size = int(0.5 * len(dataset_test))\n",
    "test_data, valid_data = torch.utils.data.random_split(\n",
    "    dataset_test, [len(dataset_test) - test_size, test_size]\n",
    ")\n",
    "BATCH_SIZE = 256\n",
    "train_iterator = data.DataLoader(dataset_train,shuffle=True,batch_size=BATCH_SIZE)\n",
    "valid_iterator = data.DataLoader(valid_data,batch_size=BATCH_SIZE)\n",
    "test_iterator = data.DataLoader(test_data, batch_size=BATCH_SIZE)"
   ]
  },
  {
   "cell_type": "code",
   "execution_count": null,
   "metadata": {},
   "outputs": [],
   "source": [
    "model = MLP(3 * len(recipes), [hidden_size_1 * 5, hidden_size_2 * 5], 3, activation).to(device)\n",
    "criterion = nn.L1Loss()\n",
    "criterion = criterion.to(device)\n",
    "\n",
    "if os.path.exists(f\"results/models/best/{select}.pt\"):\n",
    "    model.load_state_dict(torch.load(f\"models/best/{select}.pt\"))\n",
    "    best_model = copy.deepcopy(model)\n",
    "else:\n",
    "    optimizer = optim.Adam(\n",
    "        model.parameters(),\n",
    "        lr=lr,\n",
    "        weight_decay=weight_decay\n",
    "    )\n",
    "\n",
    "    EPOCHS = 50000\n",
    "\n",
    "    best_valid_loss = float('inf')\n",
    "\n",
    "    for epoch in range(EPOCHS):\n",
    "\n",
    "        start_time = time.monotonic()\n",
    "\n",
    "        train_loss = train(model, train_iterator, optimizer, criterion, device)\n",
    "        valid_loss = evaluate(model, valid_iterator, criterion, device)\n",
    "\n",
    "        if valid_loss < best_valid_loss:\n",
    "            best_valid_loss = valid_loss\n",
    "            torch.save(model.state_dict(), f'models/best/{select}.pt')\n",
    "            best_model = copy.deepcopy(model)\n",
    "\n",
    "        # wandb.log({\"train_loss\": train_loss, \"valid_loss\": valid_loss, \"best_valid_loss\": best_valid_loss})\n",
    "\n",
    "        end_time = time.monotonic()\n",
    "\n",
    "        epoch_mins, epoch_secs = epoch_time(start_time, end_time)\n",
    "\n",
    "        print(f'Epoch: {epoch+1:02} | Epoch Time: {epoch_mins}m {epoch_secs}s | Train Loss: {train_loss:.5f} | Val. Loss: {valid_loss:.5f}')"
   ]
  },
  {
   "cell_type": "code",
   "execution_count": null,
   "metadata": {},
   "outputs": [],
   "source": []
  }
 ],
 "metadata": {
  "kernelspec": {
   "display_name": "exps",
   "language": "python",
   "name": "python3"
  },
  "language_info": {
   "codemirror_mode": {
    "name": "ipython",
    "version": 3
   },
   "file_extension": ".py",
   "mimetype": "text/x-python",
   "name": "python",
   "nbconvert_exporter": "python",
   "pygments_lexer": "ipython3",
   "version": "3.11.3"
  },
  "orig_nbformat": 4
 },
 "nbformat": 4,
 "nbformat_minor": 2
}
