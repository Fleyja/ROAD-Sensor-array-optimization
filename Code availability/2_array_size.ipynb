{
 "cells": [
  {
   "cell_type": "code",
   "execution_count": null,
   "metadata": {},
   "outputs": [],
   "source": [
    "import pandas as pd\n",
    "import numpy as np\n",
    "\n",
    "from src.data import plot_calibrate_result, get_predictions\n",
    "\n",
    "from sklearn.linear_model import Ridge\n",
    "\n",
    "from sko.GA import GA\n",
    "from sko.DE import DE\n",
    "\n",
    "import pandas as pd\n",
    "import matplotlib.pyplot as plt"
   ]
  },
  {
   "cell_type": "code",
   "execution_count": null,
   "metadata": {},
   "outputs": [],
   "source": [
    "df_test = pd.read_csv('data/raw/data_raw_10_test.csv')\n",
    "df_train = pd.read_csv('data/raw/data_raw_10_train.csv')\n",
    "SKIP = 5\n",
    "N_RECIPES = 330\n",
    "# df_test = pd.read_csv('data/array_size/test.csv')\n",
    "# df_train = pd.read_csv('data/array_size/train.csv')"
   ]
  },
  {
   "cell_type": "code",
   "execution_count": null,
   "metadata": {},
   "outputs": [],
   "source": [
    "from sklearn.metrics import mean_squared_error\n",
    "\n",
    "\n",
    "def eval(p):\n",
    "    rec_cols = []\n",
    "    for i in p:\n",
    "        rec_cols += [f\"r_{int(i) * SKIP}\", f\"g_{int(i) * SKIP}\", f\"b_{int(i) * SKIP}\"]\n",
    "        # rec_cols += [f\"r_{int(i)}\", f\"g_{int(i)}\", f\"b_{int(i)}\"]\n",
    "\n",
    "    x_train = df_train[rec_cols].values\n",
    "    y_train = df_train[[\"conc_water\", \"conc_co2\", \"conc_nh3\"]].values\n",
    "    x_test = df_test[rec_cols].values\n",
    "    y_test = df_test[[\"conc_water\", \"conc_co2\", \"conc_nh3\"]].values\n",
    "    model = Ridge(alpha=0.02)\n",
    "    model.fit(x_train, y_train)\n",
    "    y_pred = model.predict(x_test)\n",
    "    rmse = np.sqrt(mean_squared_error(y_test, y_pred))\n",
    "    # print(rmse)\n",
    "    # distances[i//96].append(np.mean(tmp))\n",
    "    return rmse"
   ]
  },
  {
   "cell_type": "code",
   "execution_count": null,
   "metadata": {},
   "outputs": [],
   "source": [
    "from multiprocessing import Pool\n",
    "\n",
    "def ga_optimization(x):\n",
    "    n_dim, random_state = x[0], x[1]\n",
    "    np.random.seed(random_state)\n",
    "    # print(f'random_state: {np.random.randint()} ; n_dim: {n_dim}')\n",
    "    ga = GA(func=eval, n_dim=n_dim, size_pop=50, max_iter=200, prob_mut=0.03, lb=[0] * n_dim, ub=[N_RECIPES//SKIP] * n_dim, precision=1)\n",
    "    _, best_y = ga.run()\n",
    "    print(f'best_x: {ga.best_x} ; best_y: {best_y[0]} ;')\n",
    "    return best_y[0]"
   ]
  },
  {
   "cell_type": "code",
   "execution_count": null,
   "metadata": {},
   "outputs": [],
   "source": [
    "best_rmses = []\n",
    "best_rmses_x = []\n",
    "best_rmses_y = []\n",
    "N = 10\n",
    "for size in range(3):\n",
    "    n_dim = size+1\n",
    "    print(f\"------------------- {n_dim} -------------------\")\n",
    "    pool = Pool(N)\n",
    "    items = [(n_dim, i+1) for i in range(N)]\n",
    "    tmp = pool.map(ga_optimization, items)\n",
    "    pool.close()\n",
    "    pool.join()\n",
    "    tmpp = []\n",
    "    for t in tmp:\n",
    "        best_rmses_x.append(n_dim)\n",
    "        best_rmses_y.append(t)\n",
    "        tmpp.append(t)\n",
    "    best_rmses.append(tmpp)"
   ]
  },
  {
   "cell_type": "code",
   "execution_count": null,
   "metadata": {},
   "outputs": [],
   "source": [
    "pd.DataFrame(best_rmses, columns=[f\"rmse_{i}\" for i in range(N)]).to_csv(\"results/array_size/best_rmses.csv\", index=False)"
   ]
  },
  {
   "cell_type": "code",
   "execution_count": null,
   "metadata": {},
   "outputs": [],
   "source": [
    "plt.scatter(best_rmses_x, best_rmses_y)"
   ]
  },
  {
   "attachments": {},
   "cell_type": "markdown",
   "metadata": {},
   "source": [
    "# Full GA"
   ]
  },
  {
   "cell_type": "code",
   "execution_count": null,
   "metadata": {},
   "outputs": [],
   "source": [
    "n_dim = 10\n",
    "ga = GA(\n",
    "    func=eval, n_dim=n_dim,\n",
    "    size_pop=200, max_iter=1000, prob_mut=0.02,\n",
    "    lb=[0] * n_dim, ub=[N_RECIPES] * n_dim,\n",
    "    precision=1\n",
    ")\n",
    "best_x, best_y = ga.run()\n",
    "print('best_x:', best_x, '\\n', 'best_y:', best_y)"
   ]
  },
  {
   "cell_type": "code",
   "execution_count": null,
   "metadata": {},
   "outputs": [],
   "source": [
    "Y_history = pd.DataFrame(ga.all_history_Y)\n",
    "fig, ax = plt.subplots(2, 1)\n",
    "ax[0].plot(Y_history.index, Y_history.values, '.', color='red')\n",
    "Y_history.min(axis=1).cummin().plot(kind='line')\n",
    "plt.show()"
   ]
  },
  {
   "cell_type": "markdown",
   "metadata": {},
   "source": [
    "# Iterative"
   ]
  },
  {
   "cell_type": "code",
   "execution_count": null,
   "metadata": {},
   "outputs": [],
   "source": [
    "selected = []\n",
    "for _ in range(10):\n",
    "    best_ = 100\n",
    "    for i in range(N_RECIPES):\n",
    "        if i in selected:\n",
    "            continue\n",
    "        tmp = selected + [i]\n",
    "        _, rmse = get_predictions(tmp, model_type=Ridge, alpha=0.02, DF=df_train)\n",
    "        if rmse < best_:\n",
    "            best_ = rmse\n",
    "            best_i = i\n",
    "    selected.append(best_i)"
   ]
  },
  {
   "cell_type": "code",
   "execution_count": null,
   "metadata": {},
   "outputs": [],
   "source": [
    "selected"
   ]
  }
 ],
 "metadata": {
  "kernelspec": {
   "display_name": "exps",
   "language": "python",
   "name": "python3"
  },
  "language_info": {
   "codemirror_mode": {
    "name": "ipython",
    "version": 3
   },
   "file_extension": ".py",
   "mimetype": "text/x-python",
   "name": "python",
   "nbconvert_exporter": "python",
   "pygments_lexer": "ipython3",
   "version": "3.11.3"
  },
  "orig_nbformat": 4
 },
 "nbformat": 4,
 "nbformat_minor": 2
}
